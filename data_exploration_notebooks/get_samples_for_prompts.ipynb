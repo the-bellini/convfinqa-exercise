{
 "cells": [
  {
   "cell_type": "code",
   "execution_count": 67,
   "metadata": {},
   "outputs": [],
   "source": [
    "# Import modules\n",
    "import json"
   ]
  },
  {
   "cell_type": "code",
   "execution_count": 3,
   "metadata": {},
   "outputs": [],
   "source": [
    "# Load data\n",
    "train_js = json.load(open(\"../data/train.json\", \"r\"))"
   ]
  },
  {
   "cell_type": "code",
   "execution_count": 4,
   "metadata": {},
   "outputs": [],
   "source": [
    "# Get 4 examples of question / steps pairs\n",
    "import random\n",
    "\n",
    "random.seed(10)\n",
    "\n",
    "random_sample = random.sample(train_js, 4)"
   ]
  },
  {
   "cell_type": "code",
   "execution_count": 57,
   "metadata": {},
   "outputs": [
    {
     "name": "stderr",
     "output_type": "stream",
     "text": [
      "/var/folders/6b/lbjm_qyx51n9qc12vknzp4f00000gn/T/ipykernel_51704/2583410515.py:4: FutureWarning: Passing literal html to 'read_html' is deprecated and will be removed in a future version. To read from a literal string, wrap it in a 'StringIO' object.\n",
      "  df = pd.read_html(table)[0]\n"
     ]
    },
    {
     "data": {
      "text/html": [
       "<div>\n",
       "<style scoped>\n",
       "    .dataframe tbody tr th:only-of-type {\n",
       "        vertical-align: middle;\n",
       "    }\n",
       "\n",
       "    .dataframe tbody tr th {\n",
       "        vertical-align: top;\n",
       "    }\n",
       "\n",
       "    .dataframe thead th {\n",
       "        text-align: right;\n",
       "    }\n",
       "</style>\n",
       "<table border=\"1\" class=\"dataframe\">\n",
       "  <thead>\n",
       "    <tr style=\"text-align: right;\">\n",
       "      <th></th>\n",
       "      <th>1</th>\n",
       "      <th>NaN</th>\n",
       "      <th>net deferred financing costs ( in $ millions )</th>\n",
       "    </tr>\n",
       "  </thead>\n",
       "  <tbody>\n",
       "    <tr>\n",
       "      <th>0</th>\n",
       "      <td>2</td>\n",
       "      <td>as of december 31 2011</td>\n",
       "      <td>28</td>\n",
       "    </tr>\n",
       "    <tr>\n",
       "      <th>1</th>\n",
       "      <td>3</td>\n",
       "      <td>financing costs deferred ( 1 )</td>\n",
       "      <td>8</td>\n",
       "    </tr>\n",
       "    <tr>\n",
       "      <th>2</th>\n",
       "      <td>4</td>\n",
       "      <td>accelerated amortization due to refinancing ac...</td>\n",
       "      <td>-1 ( 1 )</td>\n",
       "    </tr>\n",
       "    <tr>\n",
       "      <th>3</th>\n",
       "      <td>5</td>\n",
       "      <td>amortization</td>\n",
       "      <td>-5 ( 5 )</td>\n",
       "    </tr>\n",
       "    <tr>\n",
       "      <th>4</th>\n",
       "      <td>6</td>\n",
       "      <td>as of december 31 2012</td>\n",
       "      <td>30</td>\n",
       "    </tr>\n",
       "    <tr>\n",
       "      <th>5</th>\n",
       "      <td>7</td>\n",
       "      <td>financing costs deferred ( 3 )</td>\n",
       "      <td>2</td>\n",
       "    </tr>\n",
       "    <tr>\n",
       "      <th>6</th>\n",
       "      <td>8</td>\n",
       "      <td>accelerated amortization due to refinancing ac...</td>\n",
       "      <td>2014</td>\n",
       "    </tr>\n",
       "    <tr>\n",
       "      <th>7</th>\n",
       "      <td>9</td>\n",
       "      <td>amortization</td>\n",
       "      <td>-5 ( 5 )</td>\n",
       "    </tr>\n",
       "    <tr>\n",
       "      <th>8</th>\n",
       "      <td>10</td>\n",
       "      <td>as of december 31 2013</td>\n",
       "      <td>27</td>\n",
       "    </tr>\n",
       "    <tr>\n",
       "      <th>9</th>\n",
       "      <td>11</td>\n",
       "      <td>financing costs deferred ( 4 )</td>\n",
       "      <td>10</td>\n",
       "    </tr>\n",
       "    <tr>\n",
       "      <th>10</th>\n",
       "      <td>12</td>\n",
       "      <td>accelerated amortization due to refinancing ac...</td>\n",
       "      <td>-5 ( 5 )</td>\n",
       "    </tr>\n",
       "    <tr>\n",
       "      <th>11</th>\n",
       "      <td>13</td>\n",
       "      <td>amortization</td>\n",
       "      <td>-5 ( 5 )</td>\n",
       "    </tr>\n",
       "    <tr>\n",
       "      <th>12</th>\n",
       "      <td>14</td>\n",
       "      <td>as of december 31 2014</td>\n",
       "      <td>27</td>\n",
       "    </tr>\n",
       "  </tbody>\n",
       "</table>\n",
       "</div>"
      ],
      "text/plain": [
       "0    1                                                NaN  \\\n",
       "0    2                             as of december 31 2011   \n",
       "1    3                     financing costs deferred ( 1 )   \n",
       "2    4  accelerated amortization due to refinancing ac...   \n",
       "3    5                                       amortization   \n",
       "4    6                             as of december 31 2012   \n",
       "5    7                     financing costs deferred ( 3 )   \n",
       "6    8  accelerated amortization due to refinancing ac...   \n",
       "7    9                                       amortization   \n",
       "8   10                             as of december 31 2013   \n",
       "9   11                     financing costs deferred ( 4 )   \n",
       "10  12  accelerated amortization due to refinancing ac...   \n",
       "11  13                                       amortization   \n",
       "12  14                             as of december 31 2014   \n",
       "\n",
       "0  net deferred financing costs ( in $ millions )  \n",
       "0                                              28  \n",
       "1                                               8  \n",
       "2                                        -1 ( 1 )  \n",
       "3                                        -5 ( 5 )  \n",
       "4                                              30  \n",
       "5                                               2  \n",
       "6                                            2014  \n",
       "7                                        -5 ( 5 )  \n",
       "8                                              27  \n",
       "9                                              10  \n",
       "10                                       -5 ( 5 )  \n",
       "11                                       -5 ( 5 )  \n",
       "12                                             27  "
      ]
     },
     "execution_count": 57,
     "metadata": {},
     "output_type": "execute_result"
    }
   ],
   "source": [
    "import pandas as pd\n",
    "\n",
    "def process_table(table):\n",
    "    df = pd.read_html(table)[0]\n",
    "    # display(df)\n",
    "    df.columns = df.iloc[0]\n",
    "    df = df[1:].reset_index(drop=True)\n",
    "    \n",
    "    return df\n",
    "\n",
    "process_table(random_sample[1][\"annotation\"][\"amt_table\"])"
   ]
  },
  {
   "cell_type": "code",
   "execution_count": 69,
   "metadata": {},
   "outputs": [],
   "source": [
    "# Construct question step pairs\n",
    "question_step_pairs = [\n",
    "    {\"user_question\" : r[\"qa\"][\"question\"], \n",
    "        \"followup_questions\": \"\\n\".join(r[\"annotation\"][\"dialogue_break\"]), \n",
    "        \"table\": r[\"annotation\"][\"amt_table\"], \n",
    "        \"calculation_steps\": r[\"annotation\"][\"step_list\"],\n",
    "        \"calculation\": r[\"qa\"][\"program_re\"]}\n",
    "    if r.get(\"qa\") is not None\n",
    "    else {\"user_questions\" : [r[\"qa_0\"][\"question\"], r[\"qa_1\"][\"question\"]], \n",
    "        \"followup_questions\": \"\\n\".join(r[\"annotation\"][\"dialogue_break\"]), \n",
    "        \"table\": r[\"annotation\"][\"amt_table\"], \n",
    "        \"calculation_steps\": r[\"annotation\"][\"step_list\"],\n",
    "        \"calculation\": [r[\"qa_0\"][\"program_re\"], r[\"qa_1\"][\"program_re\"]]}\n",
    "    for r in random_sample\n",
    "]"
   ]
  },
  {
   "cell_type": "code",
   "execution_count": 70,
   "metadata": {},
   "outputs": [
    {
     "data": {
      "text/plain": [
       "{'user_question': 'what is the growth rate in net revenue from 2010 to 2011?',\n",
       " 'followup_questions': 'what was the change in the net revenue from 2010 to 2011?\\nand how much does this change represent in relation to the net revenue in 2010?',\n",
       " 'table': \"<table class='wikitable'><tr><td>1</td><td></td><td>amount ( in millions )</td></tr><tr><td>2</td><td>2010 net revenue</td><td>$ 1043.7</td></tr><tr><td>3</td><td>mark-to-market tax settlement sharing</td><td>-195.9 ( 195.9 )</td></tr><tr><td>4</td><td>retail electric price</td><td>32.5</td></tr><tr><td>5</td><td>volume/weather</td><td>11.6</td></tr><tr><td>6</td><td>other</td><td>-5.7 ( 5.7 )</td></tr><tr><td>7</td><td>2011 net revenue</td><td>$ 886.2</td></tr></table>\",\n",
       " 'calculation_steps': ['subtract(886.2, 1043.7)', 'divide(A0, 1043.7)'],\n",
       " 'calculation': 'divide(subtract(886.2, 1043.7), 1043.7)'}"
      ]
     },
     "execution_count": 70,
     "metadata": {},
     "output_type": "execute_result"
    }
   ],
   "source": [
    "question_step_pairs[0]"
   ]
  },
  {
   "cell_type": "code",
   "execution_count": 71,
   "metadata": {},
   "outputs": [
    {
     "data": {
      "text/plain": [
       "{'user_question': 'assuming the revolver is undrawn , what would the annual fee for the revolver be?',\n",
       " 'followup_questions': 'what was the quarterly commitment fee on the unused portion of the revolving credit facility?\\nand converted to the millions?',\n",
       " 'table': \"<table class='wikitable'><tr><td>1</td><td></td><td>net deferred financing costs ( in $ millions )</td></tr><tr><td>2</td><td>as of december 31 2011</td><td>28</td></tr><tr><td>3</td><td>financing costs deferred ( 1 )</td><td>8</td></tr><tr><td>4</td><td>accelerated amortization due to refinancing activity ( 2 )</td><td>-1 ( 1 )</td></tr><tr><td>5</td><td>amortization</td><td>-5 ( 5 )</td></tr><tr><td>6</td><td>as of december 31 2012</td><td>30</td></tr><tr><td>7</td><td>financing costs deferred ( 3 )</td><td>2</td></tr><tr><td>8</td><td>accelerated amortization due to refinancing activity</td><td>2014</td></tr><tr><td>9</td><td>amortization</td><td>-5 ( 5 )</td></tr><tr><td>10</td><td>as of december 31 2013</td><td>27</td></tr><tr><td>11</td><td>financing costs deferred ( 4 )</td><td>10</td></tr><tr><td>12</td><td>accelerated amortization due to refinancing activity ( 5 )</td><td>-5 ( 5 )</td></tr><tr><td>13</td><td>amortization</td><td>-5 ( 5 )</td></tr><tr><td>14</td><td>as of december 31 2014</td><td>27</td></tr></table>\",\n",
       " 'calculation_steps': ['multiply(900, 0.25%)', 'multiply(A0, const_1000000)'],\n",
       " 'calculation': 'multiply(multiply(900, 0.25%), const_1000000)'}"
      ]
     },
     "execution_count": 71,
     "metadata": {},
     "output_type": "execute_result"
    }
   ],
   "source": [
    "question_step_pairs[1]"
   ]
  },
  {
   "cell_type": "code",
   "execution_count": 73,
   "metadata": {},
   "outputs": [
    {
     "data": {
      "text/plain": [
       "{'user_questions': ['what was the percentage change in share-based compensation expense between 2011 and 2012?',\n",
       "  'what was the percentage change in share-based compensation expense between 2012 and 2013?'],\n",
       " 'followup_questions': 'what was the change in the share-based compensation expense from 2011 to 2012?\\nand what was this change as a percent of that expense in 2011?\\nand throughout the subsequent year of this period, what was that change?\\nwhat percentage did this 2012-2013 change represent in relation to that compensation expense in 2012?',\n",
       " 'table': \"<table class='wikitable'><tr><td>1</td><td>for the years ended december 31,</td><td>2013</td><td>2012</td><td>2011</td></tr><tr><td>2</td><td>stock options</td><td>$ 24.7</td><td>$ 32.4</td><td>$ 41.7</td></tr><tr><td>3</td><td>rsus and other</td><td>23.8</td><td>22.6</td><td>18.8</td></tr><tr><td>4</td><td>total expense pre-tax</td><td>48.5</td><td>55.0</td><td>60.5</td></tr><tr><td>5</td><td>tax benefit related to awards</td><td>-15.6 ( 15.6 )</td><td>-16.6 ( 16.6 )</td><td>-17.8 ( 17.8 )</td></tr><tr><td>6</td><td>total expense net of tax</td><td>$ 32.9</td><td>$ 38.4</td><td>$ 42.7</td></tr></table>\",\n",
       " 'calculation_steps': ['subtract(38.4, 42.7)',\n",
       "  'divide(#0, 42.7)',\n",
       "  'Ask for number 32.9',\n",
       "  'Ask for number 38.4',\n",
       "  'subtract(32.9, 38.4)',\n",
       "  'divide(#2, 38.4)'],\n",
       " 'calculation': ['divide(subtract(38.4, 42.7), 42.7)',\n",
       "  'divide(subtract(32.9, 38.4), 38.4)']}"
      ]
     },
     "execution_count": 73,
     "metadata": {},
     "output_type": "execute_result"
    }
   ],
   "source": [
    "question_step_pairs[2]"
   ]
  },
  {
   "cell_type": "code",
   "execution_count": 74,
   "metadata": {},
   "outputs": [
    {
     "data": {
      "text/plain": [
       "{'user_question': 'what was the three year average interest rate for 2007-2009?',\n",
       " 'followup_questions': 'combined, what was the risk-free interest rate in 2008 and 2009?\\nand in 2007?\\nwhat was the total for all three years?\\nso what was the average value during this time?',\n",
       " 'table': \"<table class='wikitable'><tr><td>1</td><td></td><td>2009</td><td>2008</td><td>2007</td></tr><tr><td>2</td><td>dividend yield</td><td>0.0% ( 0.0 % )</td><td>1.9% ( 1.9 % )</td><td>1.3% ( 1.3 % )</td></tr><tr><td>3</td><td>expected stock price volatility</td><td>55.0% ( 55.0 % )</td><td>31.4% ( 31.4 % )</td><td>28.0% ( 28.0 % )</td></tr><tr><td>4</td><td>risk-free interest rate</td><td>1.8% ( 1.8 % )</td><td>2.8% ( 2.8 % )</td><td>4.8% ( 4.8 % )</td></tr><tr><td>5</td><td>expected option life</td><td>5 years</td><td>5 years</td><td>5 years</td></tr></table>\",\n",
       " 'calculation_steps': ['add(1.8, 2.8)',\n",
       "  'Ask for number 4.8',\n",
       "  'add(A0, 4.8)',\n",
       "  'divide(A1, const_3)'],\n",
       " 'calculation': 'divide(add(add(1.8, 2.8), 4.8), const_3)'}"
      ]
     },
     "execution_count": 74,
     "metadata": {},
     "output_type": "execute_result"
    }
   ],
   "source": [
    "question_step_pairs[3]"
   ]
  },
  {
   "cell_type": "code",
   "execution_count": 76,
   "metadata": {},
   "outputs": [
    {
     "name": "stderr",
     "output_type": "stream",
     "text": [
      "/var/folders/6b/lbjm_qyx51n9qc12vknzp4f00000gn/T/ipykernel_51704/741810508.py:1: FutureWarning: Passing literal html to 'read_html' is deprecated and will be removed in a future version. To read from a literal string, wrap it in a 'StringIO' object.\n",
      "  pd.read_html(question_step_pairs[3][\"table\"])[0]\n"
     ]
    },
    {
     "data": {
      "text/html": [
       "<div>\n",
       "<style scoped>\n",
       "    .dataframe tbody tr th:only-of-type {\n",
       "        vertical-align: middle;\n",
       "    }\n",
       "\n",
       "    .dataframe tbody tr th {\n",
       "        vertical-align: top;\n",
       "    }\n",
       "\n",
       "    .dataframe thead th {\n",
       "        text-align: right;\n",
       "    }\n",
       "</style>\n",
       "<table border=\"1\" class=\"dataframe\">\n",
       "  <thead>\n",
       "    <tr style=\"text-align: right;\">\n",
       "      <th></th>\n",
       "      <th>0</th>\n",
       "      <th>1</th>\n",
       "      <th>2</th>\n",
       "      <th>3</th>\n",
       "      <th>4</th>\n",
       "    </tr>\n",
       "  </thead>\n",
       "  <tbody>\n",
       "    <tr>\n",
       "      <th>0</th>\n",
       "      <td>1</td>\n",
       "      <td>NaN</td>\n",
       "      <td>2009</td>\n",
       "      <td>2008</td>\n",
       "      <td>2007</td>\n",
       "    </tr>\n",
       "    <tr>\n",
       "      <th>1</th>\n",
       "      <td>2</td>\n",
       "      <td>dividend yield</td>\n",
       "      <td>0.0% ( 0.0 % )</td>\n",
       "      <td>1.9% ( 1.9 % )</td>\n",
       "      <td>1.3% ( 1.3 % )</td>\n",
       "    </tr>\n",
       "    <tr>\n",
       "      <th>2</th>\n",
       "      <td>3</td>\n",
       "      <td>expected stock price volatility</td>\n",
       "      <td>55.0% ( 55.0 % )</td>\n",
       "      <td>31.4% ( 31.4 % )</td>\n",
       "      <td>28.0% ( 28.0 % )</td>\n",
       "    </tr>\n",
       "    <tr>\n",
       "      <th>3</th>\n",
       "      <td>4</td>\n",
       "      <td>risk-free interest rate</td>\n",
       "      <td>1.8% ( 1.8 % )</td>\n",
       "      <td>2.8% ( 2.8 % )</td>\n",
       "      <td>4.8% ( 4.8 % )</td>\n",
       "    </tr>\n",
       "    <tr>\n",
       "      <th>4</th>\n",
       "      <td>5</td>\n",
       "      <td>expected option life</td>\n",
       "      <td>5 years</td>\n",
       "      <td>5 years</td>\n",
       "      <td>5 years</td>\n",
       "    </tr>\n",
       "  </tbody>\n",
       "</table>\n",
       "</div>"
      ],
      "text/plain": [
       "   0                                1                 2                 3  \\\n",
       "0  1                              NaN              2009              2008   \n",
       "1  2                   dividend yield    0.0% ( 0.0 % )    1.9% ( 1.9 % )   \n",
       "2  3  expected stock price volatility  55.0% ( 55.0 % )  31.4% ( 31.4 % )   \n",
       "3  4          risk-free interest rate    1.8% ( 1.8 % )    2.8% ( 2.8 % )   \n",
       "4  5             expected option life           5 years           5 years   \n",
       "\n",
       "                  4  \n",
       "0              2007  \n",
       "1    1.3% ( 1.3 % )  \n",
       "2  28.0% ( 28.0 % )  \n",
       "3    4.8% ( 4.8 % )  \n",
       "4           5 years  "
      ]
     },
     "execution_count": 76,
     "metadata": {},
     "output_type": "execute_result"
    }
   ],
   "source": [
    "pd.read_html(question_step_pairs[3][\"table\"])[0]"
   ]
  },
  {
   "cell_type": "code",
   "execution_count": null,
   "metadata": {},
   "outputs": [],
   "source": []
  }
 ],
 "metadata": {
  "kernelspec": {
   "display_name": "convfinqa-DdDm5N91-py3.12",
   "language": "python",
   "name": "python3"
  },
  "language_info": {
   "codemirror_mode": {
    "name": "ipython",
    "version": 3
   },
   "file_extension": ".py",
   "mimetype": "text/x-python",
   "name": "python",
   "nbconvert_exporter": "python",
   "pygments_lexer": "ipython3",
   "version": "3.12.5"
  }
 },
 "nbformat": 4,
 "nbformat_minor": 2
}
