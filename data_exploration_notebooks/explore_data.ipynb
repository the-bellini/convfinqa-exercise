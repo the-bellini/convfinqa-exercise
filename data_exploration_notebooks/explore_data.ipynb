{
 "cells": [
  {
   "cell_type": "code",
   "execution_count": 2,
   "metadata": {},
   "outputs": [],
   "source": [
    "# Import modules\n",
    "import json\n",
    "import pandas as pd"
   ]
  },
  {
   "cell_type": "code",
   "execution_count": 3,
   "metadata": {},
   "outputs": [],
   "source": [
    "# Load data\n",
    "train_js = json.load(open(\"../data/train.json\", \"r\"))"
   ]
  },
  {
   "cell_type": "markdown",
   "metadata": {},
   "source": [
    "## View data fields"
   ]
  },
  {
   "cell_type": "code",
   "execution_count": 3,
   "metadata": {},
   "outputs": [
    {
     "data": {
      "text/plain": [
       "dict_keys(['pre_text', 'post_text', 'filename', 'table_ori', 'table', 'qa', 'id', 'annotation'])"
      ]
     },
     "execution_count": 3,
     "metadata": {},
     "output_type": "execute_result"
    }
   ],
   "source": [
    "# Check fields\n",
    "train_js[0].keys()"
   ]
  },
  {
   "cell_type": "code",
   "execution_count": 4,
   "metadata": {},
   "outputs": [
    {
     "data": {
      "text/plain": [
       "{'annotation',\n",
       " 'filename',\n",
       " 'id',\n",
       " 'post_text',\n",
       " 'pre_text',\n",
       " 'qa',\n",
       " 'qa_0',\n",
       " 'qa_1',\n",
       " 'table',\n",
       " 'table_ori'}"
      ]
     },
     "execution_count": 4,
     "metadata": {},
     "output_type": "execute_result"
    }
   ],
   "source": [
    "# Check all possible fields\n",
    "set([i for js in train_js for i in list(js.keys())])"
   ]
  },
  {
   "cell_type": "markdown",
   "metadata": {},
   "source": [
    "## Question Samples"
   ]
  },
  {
   "cell_type": "code",
   "execution_count": 30,
   "metadata": {},
   "outputs": [
    {
     "data": {
      "text/plain": [
       "{'question': 'what was the percentage change in the net cash from operating activities from 2008 to 2009',\n",
       " 'answer': '14.1%',\n",
       " 'explanation': '',\n",
       " 'ann_table_rows': [6],\n",
       " 'ann_text_rows': [],\n",
       " 'steps': [{'op': 'minus2-1',\n",
       "   'arg1': '206588',\n",
       "   'arg2': '181001',\n",
       "   'res': '25587'},\n",
       "  {'op': 'divide2-2', 'arg1': '#0', 'arg2': '181001', 'res': '14.1%'}],\n",
       " 'program': 'subtract(206588, 181001), divide(#0, 181001)',\n",
       " 'gold_inds': {'table_6': '2008 the net cash from operating activities of year ended june 30 2009 2008 is $ 206588 ; the net cash from operating activities of year ended june 30 2009 2008 is $ 181001 ; the net cash from operating activities of year ended june 30 2009 is $ 174247 ;'},\n",
       " 'exe_ans': 0.14136,\n",
       " 'program_re': 'divide(subtract(206588, 181001), 181001)'}"
      ]
     },
     "execution_count": 30,
     "metadata": {},
     "output_type": "execute_result"
    }
   ],
   "source": [
    "# Check a question\n",
    "train_js[0][\"qa\"]"
   ]
  },
  {
   "cell_type": "code",
   "execution_count": 6,
   "metadata": {},
   "outputs": [
    {
     "data": {
      "text/plain": [
       "{'question': 'what is the roi of an investment in ups in 2004 and sold in 2006?',\n",
       " 'answer': '-8.9%',\n",
       " 'explanation': '',\n",
       " 'ann_table_rows': [1],\n",
       " 'ann_text_rows': [],\n",
       " 'steps': [{'op': 'minus1-1',\n",
       "   'arg1': '91.06',\n",
       "   'arg2': 'const_100',\n",
       "   'res': '-8.94'},\n",
       "  {'op': 'divide1-2', 'arg1': '#0', 'arg2': 'const_100', 'res': '-8.9%'}],\n",
       " 'program': 'subtract(91.06, const_100), divide(#0, const_100)',\n",
       " 'gold_inds': {'table_1': 'the united parcel service inc . of 12/31/04 is $ 100.00 ; the united parcel service inc . of 12/31/05 is $ 89.49 ; the united parcel service inc . of 12/31/06 is $ 91.06 ; the united parcel service inc . of 12/31/07 is $ 87.88 ; the united parcel service inc . of 12/31/08 is $ 70.48 ; the united parcel service inc . of 12/31/09 is $ 75.95 ;'},\n",
       " 'exe_ans': -0.0894,\n",
       " 'program_re': 'divide(subtract(91.06, const_100), const_100)'}"
      ]
     },
     "execution_count": 6,
     "metadata": {},
     "output_type": "execute_result"
    }
   ],
   "source": [
    "# Check a question\n",
    "train_js[4][\"qa_0\"]"
   ]
  },
  {
   "cell_type": "code",
   "execution_count": 7,
   "metadata": {},
   "outputs": [
    {
     "data": {
      "text/plain": [
       "{'question': 'what was the difference in percentage cumulative return on investment for united parcel service inc . compared to the s&p 500 index for the five year period ended 12/31/09?',\n",
       " 'answer': '-26.16%',\n",
       " 'explanation': '',\n",
       " 'ann_table_rows': [1, 2],\n",
       " 'ann_text_rows': [],\n",
       " 'steps': [{'op': 'minus2-1',\n",
       "   'arg1': '75.95',\n",
       "   'arg2': 'const_100',\n",
       "   'res': '-24.05'},\n",
       "  {'op': 'divide2-2', 'arg1': '#0', 'arg2': 'const_100', 'res': '-24.05%'},\n",
       "  {'op': 'minus2-3', 'arg1': '102.11', 'arg2': 'const_100', 'res': '2.11'},\n",
       "  {'op': 'divide2-4', 'arg1': '#2', 'arg2': 'const_100', 'res': '2.11%'},\n",
       "  {'op': 'minus2-5', 'arg1': '#1', 'arg2': '#3', 'res': '-26.16%'}],\n",
       " 'program': 'subtract(75.95, const_100), divide(#0, const_100), subtract(102.11, const_100), divide(#2, const_100), subtract(#1, #3)',\n",
       " 'gold_inds': {'table_1': 'the united parcel service inc . of 12/31/04 is $ 100.00 ; the united parcel service inc . of 12/31/05 is $ 89.49 ; the united parcel service inc . of 12/31/06 is $ 91.06 ; the united parcel service inc . of 12/31/07 is $ 87.88 ; the united parcel service inc . of 12/31/08 is $ 70.48 ; the united parcel service inc . of 12/31/09 is $ 75.95 ;',\n",
       "  'table_2': 'the s&p 500 index of 12/31/04 is $ 100.00 ; the s&p 500 index of 12/31/05 is $ 104.91 ; the s&p 500 index of 12/31/06 is $ 121.48 ; the s&p 500 index of 12/31/07 is $ 128.15 ; the s&p 500 index of 12/31/08 is $ 80.74 ; the s&p 500 index of 12/31/09 is $ 102.11 ;'},\n",
       " 'exe_ans': -0.2616,\n",
       " 'program_re': 'subtract(divide(subtract(75.95, const_100), const_100), divide(subtract(102.11, const_100), const_100))'}"
      ]
     },
     "execution_count": 7,
     "metadata": {},
     "output_type": "execute_result"
    }
   ],
   "source": [
    "# Check a question\n",
    "train_js[4][\"qa_1\"]"
   ]
  },
  {
   "cell_type": "code",
   "execution_count": 8,
   "metadata": {},
   "outputs": [
    {
     "data": {
      "text/html": [
       "<div>\n",
       "<style scoped>\n",
       "    .dataframe tbody tr th:only-of-type {\n",
       "        vertical-align: middle;\n",
       "    }\n",
       "\n",
       "    .dataframe tbody tr th {\n",
       "        vertical-align: top;\n",
       "    }\n",
       "\n",
       "    .dataframe thead th {\n",
       "        text-align: right;\n",
       "    }\n",
       "</style>\n",
       "<table border=\"1\" class=\"dataframe\">\n",
       "  <thead>\n",
       "    <tr style=\"text-align: right;\">\n",
       "      <th></th>\n",
       "      <th>amt_table</th>\n",
       "      <th>amt_pre_text</th>\n",
       "      <th>amt_post_text</th>\n",
       "      <th>original_program</th>\n",
       "      <th>step_list</th>\n",
       "      <th>answer_list</th>\n",
       "      <th>dialogue_break</th>\n",
       "      <th>turn_program_ori</th>\n",
       "      <th>dialogue_break_ori</th>\n",
       "      <th>turn_program</th>\n",
       "      <th>qa_split</th>\n",
       "      <th>exe_ans_list</th>\n",
       "    </tr>\n",
       "  </thead>\n",
       "  <tbody>\n",
       "    <tr>\n",
       "      <th>0</th>\n",
       "      <td>&lt;table class='wikitable'&gt;&lt;tr&gt;&lt;td&gt;1&lt;/td&gt;&lt;td&gt;200...</td>\n",
       "      <td>26 | 2009 annual report in fiscal 2008 , reven...</td>\n",
       "      <td>year ended june 30 , cash provided by operatio...</td>\n",
       "      <td>subtract(206588, 181001), divide(A0, 181001)</td>\n",
       "      <td>Ask for number 206588</td>\n",
       "      <td>206588</td>\n",
       "      <td>what is the net cash from operating activities...</td>\n",
       "      <td>206588</td>\n",
       "      <td>what is the net cash from operating activities...</td>\n",
       "      <td>206588</td>\n",
       "      <td>0</td>\n",
       "      <td>206588.00000</td>\n",
       "    </tr>\n",
       "    <tr>\n",
       "      <th>1</th>\n",
       "      <td>&lt;table class='wikitable'&gt;&lt;tr&gt;&lt;td&gt;1&lt;/td&gt;&lt;td&gt;200...</td>\n",
       "      <td>26 | 2009 annual report in fiscal 2008 , reven...</td>\n",
       "      <td>year ended june 30 , cash provided by operatio...</td>\n",
       "      <td>subtract(206588, 181001), divide(A0, 181001)</td>\n",
       "      <td>Ask for number 181001</td>\n",
       "      <td>181001</td>\n",
       "      <td>what about in 2008?</td>\n",
       "      <td>181001</td>\n",
       "      <td>what about in 2008?</td>\n",
       "      <td>181001</td>\n",
       "      <td>0</td>\n",
       "      <td>181001.00000</td>\n",
       "    </tr>\n",
       "    <tr>\n",
       "      <th>2</th>\n",
       "      <td>&lt;table class='wikitable'&gt;&lt;tr&gt;&lt;td&gt;1&lt;/td&gt;&lt;td&gt;200...</td>\n",
       "      <td>26 | 2009 annual report in fiscal 2008 , reven...</td>\n",
       "      <td>year ended june 30 , cash provided by operatio...</td>\n",
       "      <td>subtract(206588, 181001), divide(A0, 181001)</td>\n",
       "      <td>subtract(206588, 181001)</td>\n",
       "      <td>A0</td>\n",
       "      <td>what is the difference?</td>\n",
       "      <td>subtract(206588, 181001)</td>\n",
       "      <td>what is the difference?</td>\n",
       "      <td>subtract(206588, 181001)</td>\n",
       "      <td>0</td>\n",
       "      <td>25587.00000</td>\n",
       "    </tr>\n",
       "    <tr>\n",
       "      <th>3</th>\n",
       "      <td>&lt;table class='wikitable'&gt;&lt;tr&gt;&lt;td&gt;1&lt;/td&gt;&lt;td&gt;200...</td>\n",
       "      <td>26 | 2009 annual report in fiscal 2008 , reven...</td>\n",
       "      <td>year ended june 30 , cash provided by operatio...</td>\n",
       "      <td>subtract(206588, 181001), divide(A0, 181001)</td>\n",
       "      <td>divide(A0, 181001)</td>\n",
       "      <td>A1</td>\n",
       "      <td>what percentage change does this represent?</td>\n",
       "      <td>subtract(206588, 181001), divide(#0, 181001)</td>\n",
       "      <td>what percentage change does this represent?</td>\n",
       "      <td>subtract(206588, 181001), divide(#0, 181001)</td>\n",
       "      <td>0</td>\n",
       "      <td>0.14136</td>\n",
       "    </tr>\n",
       "  </tbody>\n",
       "</table>\n",
       "</div>"
      ],
      "text/plain": [
       "                                           amt_table  \\\n",
       "0  <table class='wikitable'><tr><td>1</td><td>200...   \n",
       "1  <table class='wikitable'><tr><td>1</td><td>200...   \n",
       "2  <table class='wikitable'><tr><td>1</td><td>200...   \n",
       "3  <table class='wikitable'><tr><td>1</td><td>200...   \n",
       "\n",
       "                                        amt_pre_text  \\\n",
       "0  26 | 2009 annual report in fiscal 2008 , reven...   \n",
       "1  26 | 2009 annual report in fiscal 2008 , reven...   \n",
       "2  26 | 2009 annual report in fiscal 2008 , reven...   \n",
       "3  26 | 2009 annual report in fiscal 2008 , reven...   \n",
       "\n",
       "                                       amt_post_text  \\\n",
       "0  year ended june 30 , cash provided by operatio...   \n",
       "1  year ended june 30 , cash provided by operatio...   \n",
       "2  year ended june 30 , cash provided by operatio...   \n",
       "3  year ended june 30 , cash provided by operatio...   \n",
       "\n",
       "                               original_program                 step_list  \\\n",
       "0  subtract(206588, 181001), divide(A0, 181001)     Ask for number 206588   \n",
       "1  subtract(206588, 181001), divide(A0, 181001)     Ask for number 181001   \n",
       "2  subtract(206588, 181001), divide(A0, 181001)  subtract(206588, 181001)   \n",
       "3  subtract(206588, 181001), divide(A0, 181001)        divide(A0, 181001)   \n",
       "\n",
       "  answer_list                                     dialogue_break  \\\n",
       "0      206588  what is the net cash from operating activities...   \n",
       "1      181001                                what about in 2008?   \n",
       "2          A0                            what is the difference?   \n",
       "3          A1        what percentage change does this represent?   \n",
       "\n",
       "                               turn_program_ori  \\\n",
       "0                                        206588   \n",
       "1                                        181001   \n",
       "2                      subtract(206588, 181001)   \n",
       "3  subtract(206588, 181001), divide(#0, 181001)   \n",
       "\n",
       "                                  dialogue_break_ori  \\\n",
       "0  what is the net cash from operating activities...   \n",
       "1                                what about in 2008?   \n",
       "2                            what is the difference?   \n",
       "3        what percentage change does this represent?   \n",
       "\n",
       "                                   turn_program  qa_split  exe_ans_list  \n",
       "0                                        206588         0  206588.00000  \n",
       "1                                        181001         0  181001.00000  \n",
       "2                      subtract(206588, 181001)         0   25587.00000  \n",
       "3  subtract(206588, 181001), divide(#0, 181001)         0       0.14136  "
      ]
     },
     "execution_count": 8,
     "metadata": {},
     "output_type": "execute_result"
    }
   ],
   "source": [
    "# Holistic view\n",
    "pd.DataFrame(train_js[0][\"annotation\"])"
   ]
  },
  {
   "cell_type": "markdown",
   "metadata": {},
   "source": [
    "## Check annotation fields"
   ]
  },
  {
   "cell_type": "code",
   "execution_count": 9,
   "metadata": {},
   "outputs": [
    {
     "data": {
      "text/plain": [
       "{'amt_table': \"<table class='wikitable'><tr><td>1</td><td>2008</td><td>year ended june 30 2009 2008</td><td>year ended june 30 2009 2008</td><td>year ended june 30 2009</td></tr><tr><td>2</td><td>net income</td><td>$ 103102</td><td>$ 104222</td><td>$ 104681</td></tr><tr><td>3</td><td>non-cash expenses</td><td>74397</td><td>70420</td><td>56348</td></tr><tr><td>4</td><td>change in receivables</td><td>21214</td><td>-2913 ( 2913 )</td><td>-28853 ( 28853 )</td></tr><tr><td>5</td><td>change in deferred revenue</td><td>21943</td><td>5100</td><td>24576</td></tr><tr><td>6</td><td>change in other assets and liabilities</td><td>-14068 ( 14068 )</td><td>4172</td><td>17495</td></tr><tr><td>7</td><td>net cash from operating activities</td><td>$ 206588</td><td>$ 181001</td><td>$ 174247</td></tr></table>\",\n",
       " 'amt_pre_text': '26 | 2009 annual report in fiscal 2008 , revenues in the credit union systems and services business segment increased 14% ( 14 % ) from fiscal 2007 . all revenue components within the segment experienced growth during fiscal 2008 . license revenue generated the largest dollar growth in revenue as episys ae , our flagship core processing system aimed at larger credit unions , experienced strong sales throughout the year . support and service revenue , which is the largest component of total revenues for the credit union segment , experienced 34 percent growth in eft support and 10 percent growth in in-house support . gross profit in this business segment increased $ 9344 in fiscal 2008 compared to fiscal 2007 , due primarily to the increase in license revenue , which carries the highest margins . liquidity and capital resources we have historically generated positive cash flow from operations and have generally used funds generated from operations and short-term borrowings on our revolving credit facility to meet capital requirements . we expect this trend to continue in the future . the company 2019s cash and cash equivalents increased to $ 118251 at june 30 , 2009 from $ 65565 at june 30 , 2008 . the following table summarizes net cash from operating activities in the statement of cash flows : 2009 2008 2007 .',\n",
       " 'amt_post_text': 'year ended june 30 , cash provided by operations increased $ 25587 to $ 206588 for the fiscal year ended june 30 , 2009 as compared to $ 181001 for the fiscal year ended june 30 , 2008 . this increase is primarily attributable to a decrease in receivables compared to the same period a year ago of $ 21214 . this decrease is largely the result of fiscal 2010 annual software maintenance billings being provided to customers earlier than in the prior year , which allowed more cash to be collected before the end of the fiscal year than in previous years . further , we collected more cash overall related to revenues that will be recognized in subsequent periods in the current year than in fiscal 2008 . cash used in investing activities for the fiscal year ended june 2009 was $ 59227 and includes $ 3027 in contingent consideration paid on prior years 2019 acquisitions . cash used in investing activities for the fiscal year ended june 2008 was $ 102148 and includes payments for acquisitions of $ 48109 , plus $ 1215 in contingent consideration paid on prior years 2019 acquisitions . capital expenditures for fiscal 2009 were $ 31562 compared to $ 31105 for fiscal 2008 . cash used for software development in fiscal 2009 was $ 24684 compared to $ 23736 during the prior year . net cash used in financing activities for the current fiscal year was $ 94675 and includes the repurchase of 3106 shares of our common stock for $ 58405 , the payment of dividends of $ 26903 and $ 13489 net repayment on our revolving credit facilities . cash used in financing activities was partially offset by proceeds of $ 3773 from the exercise of stock options and the sale of common stock ( through the employee stock purchase plan ) and $ 348 excess tax benefits from stock option exercises . during fiscal 2008 , net cash used in financing activities for the fiscal year was $ 101905 and includes the repurchase of 4200 shares of our common stock for $ 100996 , the payment of dividends of $ 24683 and $ 429 net repayment on our revolving credit facilities . cash used in financing activities was partially offset by proceeds of $ 20394 from the exercise of stock options and the sale of common stock and $ 3809 excess tax benefits from stock option exercises . beginning during fiscal 2008 , us financial markets and many of the largest us financial institutions have been shaken by negative developments in the home mortgage industry and the mortgage markets , and particularly the markets for subprime mortgage-backed securities . since that time , these and other such developments have resulted in a broad , global economic downturn . while we , as is the case with most companies , have experienced the effects of this downturn , we have not experienced any significant issues with our current collection efforts , and we believe that any future impact to our liquidity will be minimized by cash generated by recurring sources of revenue and due to our access to available lines of credit. .',\n",
       " 'original_program': 'subtract(206588, 181001), divide(A0, 181001)',\n",
       " 'step_list': ['Ask for number 206588',\n",
       "  'Ask for number 181001',\n",
       "  'subtract(206588, 181001)',\n",
       "  'divide(A0, 181001)'],\n",
       " 'answer_list': ['206588', '181001', 'A0', 'A1'],\n",
       " 'dialogue_break': ['what is the net cash from operating activities in 2009?',\n",
       "  'what about in 2008?',\n",
       "  'what is the difference?',\n",
       "  'what percentage change does this represent?'],\n",
       " 'turn_program_ori': ['206588',\n",
       "  '181001',\n",
       "  'subtract(206588, 181001)',\n",
       "  'subtract(206588, 181001), divide(#0, 181001)'],\n",
       " 'dialogue_break_ori': ['what is the net cash from operating activities in 2009?',\n",
       "  'what about in 2008?',\n",
       "  'what is the difference?',\n",
       "  'what percentage change does this represent?'],\n",
       " 'turn_program': ['206588',\n",
       "  '181001',\n",
       "  'subtract(206588, 181001)',\n",
       "  'subtract(206588, 181001), divide(#0, 181001)'],\n",
       " 'qa_split': [0, 0, 0, 0],\n",
       " 'exe_ans_list': [206588.0, 181001.0, 25587.0, 0.14136]}"
      ]
     },
     "execution_count": 9,
     "metadata": {},
     "output_type": "execute_result"
    }
   ],
   "source": [
    "# Annotation samples\n",
    "train_js[0][\"annotation\"]"
   ]
  },
  {
   "cell_type": "code",
   "execution_count": 10,
   "metadata": {},
   "outputs": [
    {
     "data": {
      "text/plain": [
       "{'amt_table': \"<table class='wikitable'><tr><td>1</td><td></td><td>12/31/04</td><td>12/31/05</td><td>12/31/06</td><td>12/31/07</td><td>12/31/08</td><td>12/31/09</td></tr><tr><td>2</td><td>united parcel service inc .</td><td>$ 100.00</td><td>$ 89.49</td><td>$ 91.06</td><td>$ 87.88</td><td>$ 70.48</td><td>$ 75.95</td></tr><tr><td>3</td><td>s&p 500 index</td><td>$ 100.00</td><td>$ 104.91</td><td>$ 121.48</td><td>$ 128.15</td><td>$ 80.74</td><td>$ 102.11</td></tr><tr><td>4</td><td>dow jones transportation average</td><td>$ 100.00</td><td>$ 111.65</td><td>$ 122.61</td><td>$ 124.35</td><td>$ 97.72</td><td>$ 115.88</td></tr></table>\",\n",
       " 'amt_pre_text': '( 1 ) includes shares repurchased through our publicly announced share repurchase program and shares tendered to pay the exercise price and tax withholding on employee stock options . shareowner return performance graph the following performance graph and related information shall not be deemed 201csoliciting material 201d or to be 201cfiled 201d with the securities and exchange commission , nor shall such information be incorporated by reference into any future filing under the securities act of 1933 or securities exchange act of 1934 , each as amended , except to the extent that the company specifically incorporates such information by reference into such filing . the following graph shows a five-year comparison of cumulative total shareowners 2019 returns for our class b common stock , the s&p 500 index , and the dow jones transportation average . the comparison of the total cumulative return on investment , which is the change in the quarterly stock price plus reinvested dividends for each of the quarterly periods , assumes that $ 100 was invested on december 31 , 2004 in the s&p 500 index , the dow jones transportation average , and our class b common stock . comparison of five year cumulative total return $ 40.00 $ 60.00 $ 80.00 $ 100.00 $ 120.00 $ 140.00 $ 160.00 2004 20092008200720062005 s&p 500 ups dj transport .',\n",
       " 'amt_post_text': '.',\n",
       " 'original_program_0': 'subtract(91.06, const_100), divide(#0, const_100)',\n",
       " 'step_list_0': ['subtract(91.06, const_100)', 'divide(#0, const_100)'],\n",
       " 'answer_list_0': ['#0', '#1'],\n",
       " 'original_program_1': 'subtract(75.95, const_100), divide(#0, const_100), subtract(102.11, const_100), divide(#2, const_100), subtract(#1, #3)',\n",
       " 'step_list_1': ['subtract(75.95, const_100)',\n",
       "  'divide(#0, const_100)',\n",
       "  'subtract(102.11, const_100)',\n",
       "  'divide(#2, const_100)',\n",
       "  'subtract(#1, #3)'],\n",
       " 'answer_list_1': ['#0', '#1', '#2', '#3', '#4'],\n",
       " 'offset': 2,\n",
       " 'step_list': ['subtract(91.06, const_100)',\n",
       "  'divide(#0, const_100)',\n",
       "  'subtract(75.95, const_100)',\n",
       "  'divide(#2, const_100)',\n",
       "  'subtract(102.11, const_100)',\n",
       "  'divide(#4, const_100)',\n",
       "  'subtract(#5, #5)'],\n",
       " 'answer_list': ['#0', '#1', '#2', '#3', '#4', '#5', '#6'],\n",
       " 'dialogue_break': ['what was the fluctuation of the performance price of the ups from 2004 to 2006?',\n",
       "  'and how much does this fluctuation represent in relation to that price in 2004?',\n",
       "  'and from this year to 2009, what was the fluctuation for that stock?',\n",
       "  'what is this fluctuation as a percentage of the 2004 price?',\n",
       "  'and for the s&p 500 index price, what was the fluctuation in those five years?',\n",
       "  'and what percentage does this fluctuation represent in relation to the 2004 price of this stock?',\n",
       "  'what is, then, the difference between the ups percentage and this s&p 500 index one, for this five year period?'],\n",
       " 'turn_program_ori': ['subtract(91.06, const_100)',\n",
       "  'subtract(91.06, const_100), divide(#0, const_100)',\n",
       "  'subtract(75.95, const_100)',\n",
       "  'subtract(75.95, const_100), divide(#0, const_100)',\n",
       "  'subtract(75.95, const_100), divide(#0, const_100), subtract(102.11, const_100)',\n",
       "  'subtract(75.95, const_100), divide(#0, const_100), subtract(102.11, const_100), divide(#2, const_100)',\n",
       "  'subtract(75.95, const_100), divide(#0, const_100), subtract(102.11, const_100), divide(#2, const_100), subtract(#1, #3)'],\n",
       " 'dialogue_break_ori': ['what was the fluctuation of the performance price of the ups from 2004 to 2006?',\n",
       "  'and how much does this fluctuation represent in relation to that price in 2004?',\n",
       "  'and from this year to 2009, what was the fluctuation for that stock?',\n",
       "  'what is this fluctuation as a percentage of the 2004 price?',\n",
       "  'and for the s&p 500 index price, what was the fluctuation in those five years?',\n",
       "  'and what percentage does this fluctuation represent in relation to the 2004 price of this stock?',\n",
       "  'what is, then, the difference between the ups percentage and this s&p 500 index one, for this five year period?'],\n",
       " 'turn_program': ['subtract(91.06, const_100)',\n",
       "  'subtract(91.06, const_100), divide(#0, const_100)',\n",
       "  'subtract(75.95, const_100)',\n",
       "  'subtract(75.95, const_100), divide(#0, const_100)',\n",
       "  'subtract(75.95, const_100), divide(#0, const_100), subtract(102.11, const_100)',\n",
       "  'subtract(75.95, const_100), divide(#0, const_100), subtract(102.11, const_100), divide(#2, const_100)',\n",
       "  'subtract(75.95, const_100), divide(#0, const_100), subtract(102.11, const_100), divide(#2, const_100), subtract(#1, #3)'],\n",
       " 'qa_split': [0, 0, 1, 1, 1, 1, 1],\n",
       " 'exe_ans_list': [-8.94, -0.0894, -24.05, -0.2405, 2.11, 0.0211, -0.2616]}"
      ]
     },
     "execution_count": 10,
     "metadata": {},
     "output_type": "execute_result"
    }
   ],
   "source": [
    "# Annotation samples\n",
    "train_js[4][\"annotation\"]"
   ]
  },
  {
   "cell_type": "code",
   "execution_count": 11,
   "metadata": {},
   "outputs": [
    {
     "data": {
      "text/plain": [
       "{'amt_post_text',\n",
       " 'amt_pre_text',\n",
       " 'amt_table',\n",
       " 'answer_list',\n",
       " 'answer_list_0',\n",
       " 'answer_list_1',\n",
       " 'dialogue_break',\n",
       " 'dialogue_break_ori',\n",
       " 'exe_ans_list',\n",
       " 'offset',\n",
       " 'original_program',\n",
       " 'original_program_0',\n",
       " 'original_program_1',\n",
       " 'qa_split',\n",
       " 'step_list',\n",
       " 'step_list_0',\n",
       " 'step_list_1',\n",
       " 'turn_program',\n",
       " 'turn_program_ori'}"
      ]
     },
     "execution_count": 11,
     "metadata": {},
     "output_type": "execute_result"
    }
   ],
   "source": [
    "# Check all possible fields\n",
    "set([i for js in train_js for i in list(js[\"annotation\"].keys())])"
   ]
  },
  {
   "cell_type": "markdown",
   "metadata": {},
   "source": [
    "## Reconstruct table"
   ]
  },
  {
   "cell_type": "code",
   "execution_count": 21,
   "metadata": {},
   "outputs": [
    {
     "name": "stderr",
     "output_type": "stream",
     "text": [
      "/var/folders/6b/lbjm_qyx51n9qc12vknzp4f00000gn/T/ipykernel_50793/1070470792.py:1: FutureWarning: Passing literal html to 'read_html' is deprecated and will be removed in a future version. To read from a literal string, wrap it in a 'StringIO' object.\n",
      "  df = pd.read_html(train_js[4][\"annotation\"][\"amt_table\"])[0]\n"
     ]
    },
    {
     "data": {
      "text/html": [
       "<div>\n",
       "<style scoped>\n",
       "    .dataframe tbody tr th:only-of-type {\n",
       "        vertical-align: middle;\n",
       "    }\n",
       "\n",
       "    .dataframe tbody tr th {\n",
       "        vertical-align: top;\n",
       "    }\n",
       "\n",
       "    .dataframe thead th {\n",
       "        text-align: right;\n",
       "    }\n",
       "</style>\n",
       "<table border=\"1\" class=\"dataframe\">\n",
       "  <thead>\n",
       "    <tr style=\"text-align: right;\">\n",
       "      <th></th>\n",
       "      <th>1</th>\n",
       "      <th>NaN</th>\n",
       "      <th>12/31/04</th>\n",
       "      <th>12/31/05</th>\n",
       "      <th>12/31/06</th>\n",
       "      <th>12/31/07</th>\n",
       "      <th>12/31/08</th>\n",
       "      <th>12/31/09</th>\n",
       "    </tr>\n",
       "  </thead>\n",
       "  <tbody>\n",
       "    <tr>\n",
       "      <th>0</th>\n",
       "      <td>2</td>\n",
       "      <td>united parcel service inc .</td>\n",
       "      <td>$ 100.00</td>\n",
       "      <td>$ 89.49</td>\n",
       "      <td>$ 91.06</td>\n",
       "      <td>$ 87.88</td>\n",
       "      <td>$ 70.48</td>\n",
       "      <td>$ 75.95</td>\n",
       "    </tr>\n",
       "    <tr>\n",
       "      <th>1</th>\n",
       "      <td>3</td>\n",
       "      <td>s&amp;p 500 index</td>\n",
       "      <td>$ 100.00</td>\n",
       "      <td>$ 104.91</td>\n",
       "      <td>$ 121.48</td>\n",
       "      <td>$ 128.15</td>\n",
       "      <td>$ 80.74</td>\n",
       "      <td>$ 102.11</td>\n",
       "    </tr>\n",
       "    <tr>\n",
       "      <th>2</th>\n",
       "      <td>4</td>\n",
       "      <td>dow jones transportation average</td>\n",
       "      <td>$ 100.00</td>\n",
       "      <td>$ 111.65</td>\n",
       "      <td>$ 122.61</td>\n",
       "      <td>$ 124.35</td>\n",
       "      <td>$ 97.72</td>\n",
       "      <td>$ 115.88</td>\n",
       "    </tr>\n",
       "  </tbody>\n",
       "</table>\n",
       "</div>"
      ],
      "text/plain": [
       "0  1                               NaN  12/31/04  12/31/05  12/31/06  \\\n",
       "0  2       united parcel service inc .  $ 100.00   $ 89.49   $ 91.06   \n",
       "1  3                     s&p 500 index  $ 100.00  $ 104.91  $ 121.48   \n",
       "2  4  dow jones transportation average  $ 100.00  $ 111.65  $ 122.61   \n",
       "\n",
       "0  12/31/07 12/31/08  12/31/09  \n",
       "0   $ 87.88  $ 70.48   $ 75.95  \n",
       "1  $ 128.15  $ 80.74  $ 102.11  \n",
       "2  $ 124.35  $ 97.72  $ 115.88  "
      ]
     },
     "execution_count": 21,
     "metadata": {},
     "output_type": "execute_result"
    }
   ],
   "source": [
    "df = pd.read_html(train_js[4][\"annotation\"][\"amt_table\"])[0]\n",
    "df.columns = df.iloc[0]  \n",
    "df = df[1:].reset_index(drop=True) \n",
    "df"
   ]
  },
  {
   "cell_type": "code",
   "execution_count": 22,
   "metadata": {},
   "outputs": [
    {
     "name": "stderr",
     "output_type": "stream",
     "text": [
      "/var/folders/6b/lbjm_qyx51n9qc12vknzp4f00000gn/T/ipykernel_50793/3252388949.py:1: FutureWarning: Passing literal html to 'read_html' is deprecated and will be removed in a future version. To read from a literal string, wrap it in a 'StringIO' object.\n",
      "  df = pd.read_html(train_js[5][\"annotation\"][\"amt_table\"])[0]\n"
     ]
    },
    {
     "data": {
      "text/html": [
       "<div>\n",
       "<style scoped>\n",
       "    .dataframe tbody tr th:only-of-type {\n",
       "        vertical-align: middle;\n",
       "    }\n",
       "\n",
       "    .dataframe tbody tr th {\n",
       "        vertical-align: top;\n",
       "    }\n",
       "\n",
       "    .dataframe thead th {\n",
       "        text-align: right;\n",
       "    }\n",
       "</style>\n",
       "<table border=\"1\" class=\"dataframe\">\n",
       "  <thead>\n",
       "    <tr style=\"text-align: right;\">\n",
       "      <th></th>\n",
       "      <th>1</th>\n",
       "      <th>NaN</th>\n",
       "      <th>shares available for awards</th>\n",
       "      <th>shares subject to outstanding awards</th>\n",
       "    </tr>\n",
       "  </thead>\n",
       "  <tbody>\n",
       "    <tr>\n",
       "      <th>0</th>\n",
       "      <td>2</td>\n",
       "      <td>2009 global incentive plan</td>\n",
       "      <td>2322450</td>\n",
       "      <td>2530454</td>\n",
       "    </tr>\n",
       "    <tr>\n",
       "      <th>1</th>\n",
       "      <td>3</td>\n",
       "      <td>2004 stock incentive plan</td>\n",
       "      <td>-</td>\n",
       "      <td>5923147</td>\n",
       "    </tr>\n",
       "  </tbody>\n",
       "</table>\n",
       "</div>"
      ],
      "text/plain": [
       "0  1                         NaN shares available for awards  \\\n",
       "0  2  2009 global incentive plan                     2322450   \n",
       "1  3   2004 stock incentive plan                           -   \n",
       "\n",
       "0 shares subject to outstanding awards  \n",
       "0                              2530454  \n",
       "1                              5923147  "
      ]
     },
     "metadata": {},
     "output_type": "display_data"
    },
    {
     "name": "stdout",
     "output_type": "stream",
     "text": [
      "{'question': 'what portion of the total shares subject to outstanding awards is under the 2009 global incentive plan?', 'answer': '70.1%', 'explanation': '', 'ann_table_rows': [1, 2], 'ann_text_rows': [], 'steps': [{'op': 'add2-1', 'arg1': '2530454', 'arg2': '5923147', 'res': '8453601'}, {'op': 'divide2-2', 'arg1': '5923147', 'arg2': '#0', 'res': '70.1%'}], 'program': 'add(2530454, 5923147), divide(5923147, #0)', 'gold_inds': {'table_1': 'the 2009 global incentive plan of shares available for awards is 2322450 ; the 2009 global incentive plan of shares subject to outstanding awards is 2530454 ;', 'table_2': 'the 2004 stock incentive plan of shares available for awards is - ; the 2004 stock incentive plan of shares subject to outstanding awards is 5923147 ;'}, 'exe_ans': 0.70067, 'program_re': 'divide(5923147, add(2530454, 5923147))'}\n"
     ]
    }
   ],
   "source": [
    "df = pd.read_html(train_js[5][\"annotation\"][\"amt_table\"])[0]\n",
    "df.columns = df.iloc[0]  \n",
    "df = df[1:].reset_index(drop=True) \n",
    "display(df)\n",
    "print(train_js[5][\"qa\"])"
   ]
  },
  {
   "cell_type": "markdown",
   "metadata": {},
   "source": [
    "## Difference between pre and post text"
   ]
  },
  {
   "cell_type": "markdown",
   "metadata": {},
   "source": [
    "Text is already chunked"
   ]
  },
  {
   "cell_type": "code",
   "execution_count": 23,
   "metadata": {},
   "outputs": [
    {
     "data": {
      "text/plain": [
       "['tax returns for 2001 and beyond are open for examination under statute .',\n",
       " 'currently , unrecognized tax benefits are not expected to change significantly over the next 12 months .',\n",
       " '19 .',\n",
       " 'stock-based and other management compensation plans in april 2009 , the company approved a global incentive plan which replaces the company 2019s 2004 stock incentive plan .',\n",
       " 'the 2009 global incentive plan ( 201cgip 201d ) enables the compensation committee of the board of directors to award incentive and nonqualified stock options , stock appreciation rights , shares of series a common stock , restricted stock , restricted stock units ( 201crsus 201d ) and incentive bonuses ( which may be paid in cash or stock or a combination thereof ) , any of which may be performance-based , with vesting and other award provisions that provide effective incentive to company employees ( including officers ) , non-management directors and other service providers .',\n",
       " 'under the 2009 gip , the company no longer can grant rsus with the right to participate in dividends or dividend equivalents .',\n",
       " 'the maximum number of shares that may be issued under the 2009 gip is equal to 5350000 shares plus ( a ) any shares of series a common stock that remain available for issuance under the 2004 stock incentive plan ( 201csip 201d ) ( not including any shares of series a common stock that are subject to outstanding awards under the 2004 sip or any shares of series a common stock that were issued pursuant to awards under the 2004 sip ) and ( b ) any awards under the 2004 stock incentive plan that remain outstanding that cease for any reason to be subject to such awards ( other than by reason of exercise or settlement of the award to the extent that such award is exercised for or settled in vested and non-forfeitable shares ) .',\n",
       " 'as of december 31 , 2010 , total shares available for awards and total shares subject to outstanding awards are as follows : shares available for awards shares subject to outstanding awards .']"
      ]
     },
     "execution_count": 23,
     "metadata": {},
     "output_type": "execute_result"
    }
   ],
   "source": [
    "train_js[5][\"pre_text\"]"
   ]
  },
  {
   "cell_type": "code",
   "execution_count": 24,
   "metadata": {},
   "outputs": [
    {
     "data": {
      "text/plain": [
       "['upon the termination of a participant 2019s employment with the company by reason of death or disability or by the company without cause ( as defined in the respective award agreements ) , an award in amount equal to ( i ) the value of the award granted multiplied by ( ii ) a fraction , ( x ) the numerator of which is the number of full months between grant date and the date of such termination , and ( y ) the denominator of which is the term of the award , such product to be rounded down to the nearest whole number , and reduced by ( iii ) the value of any award that previously vested , shall immediately vest and become payable to the participant .',\n",
       " 'upon the termination of a participant 2019s employment with the company for any other reason , any unvested portion of the award shall be forfeited and cancelled without consideration .',\n",
       " 'there was $ 19 million and $ 0 million of tax benefit realized from stock option exercises and vesting of rsus during the years ended december 31 , 2010 and 2009 , respectively .',\n",
       " 'during the year ended december 31 , 2008 the company reversed $ 8 million of the $ 19 million tax benefit that was realized during the year ended december 31 , 2007 .',\n",
       " 'deferred compensation in april 2007 , certain participants in the company 2019s 2004 deferred compensation plan elected to participate in a revised program , which includes both cash awards and restricted stock units ( see restricted stock units below ) .',\n",
       " 'based on participation in the revised program , the company expensed $ 9 million , $ 10 million and $ 8 million during the years ended december 31 , 2010 , 2009 and 2008 , respectively , related to the revised program and made payments of $ 4 million during the year ended december 31 , 2010 to participants who left the company and $ 28 million to active employees during december 2010 .',\n",
       " 'as of december 31 , 2010 , $ 1 million remains to be paid during 2011 under the revised program .',\n",
       " 'as of december 31 , 2009 , there was no deferred compensation payable remaining associated with the 2004 deferred compensation plan .',\n",
       " 'the company recorded expense related to participants continuing in the 2004 deferred %%transmsg*** transmitting job : d77691 pcn : 132000000 ***%%pcmsg|132 |00011|yes|no|02/09/2011 18:22|0|0|page is valid , no graphics -- color : n| .']"
      ]
     },
     "execution_count": 24,
     "metadata": {},
     "output_type": "execute_result"
    }
   ],
   "source": [
    "train_js[5][\"post_text\"]"
   ]
  },
  {
   "cell_type": "markdown",
   "metadata": {},
   "source": [
    "## Check length of inputs"
   ]
  },
  {
   "cell_type": "code",
   "execution_count": 9,
   "metadata": {},
   "outputs": [
    {
     "data": {
      "image/png": "[encoded data removed]",
      "text/plain": [
       "<Figure size 640x480 with 1 Axes>"
      ]
     },
     "metadata": {},
     "output_type": "display_data"
    }
   ],
   "source": [
    "import matplotlib.pyplot as plt\n",
    "\n",
    "def plot_histogram_of_lengths(strings):\n",
    "    # Calculate the length of each string\n",
    "    tokens = [len(s) / 3 for s in strings]\n",
    "\n",
    "    # Plot the histogram\n",
    "    plt.hist(tokens, bins=10, edgecolor='black')\n",
    "    plt.xlabel('Character Length')\n",
    "    plt.ylabel('Frequency')\n",
    "    plt.title('Histogram of Character Lengths of Strings')\n",
    "    plt.show()\n",
    "\n",
    "# Ensure each part is converted to a string\n",
    "strings = [\" \".join([\n",
    "    \" \".join(s[\"pre_text\"]) if isinstance(s[\"pre_text\"], list) else str(s[\"pre_text\"]),\n",
    "    str(s[\"annotation\"][\"amt_table\"]),\n",
    "    \" \".join(s[\"post_text\"]) if isinstance(s[\"post_text\"], list) else str(s[\"post_text\"])\n",
    "]) for s in train_js]\n",
    "\n",
    "plot_histogram_of_lengths(strings)"
   ]
  },
  {
   "cell_type": "code",
   "execution_count": null,
   "metadata": {},
   "outputs": [],
   "source": []
  }
 ],
 "metadata": {
  "kernelspec": {
   "display_name": "convfinqa-DdDm5N91-py3.12",
   "language": "python",
   "name": "python3"
  },
  "language_info": {
   "codemirror_mode": {
    "name": "ipython",
    "version": 3
   },
   "file_extension": ".py",
   "mimetype": "text/x-python",
   "name": "python",
   "nbconvert_exporter": "python",
   "pygments_lexer": "ipython3",
   "version": "3.12.5"
  }
 },
 "nbformat": 4,
 "nbformat_minor": 2
}
