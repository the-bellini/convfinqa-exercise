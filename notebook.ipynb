{
 "cells": [
  {
   "cell_type": "markdown",
   "metadata": {},
   "source": [
    "# Demonstrate Data Pipeline"
   ]
  },
  {
   "cell_type": "markdown",
   "metadata": {},
   "source": [
    "### Load modules"
   ]
  },
  {
   "cell_type": "code",
   "execution_count": 31,
   "metadata": {},
   "outputs": [],
   "source": [
    "import re\n",
    "import json\n",
    "import random\n",
    "from dotenv import load_dotenv\n",
    "\n",
    "load_dotenv() \n",
    "\n",
    "from convfinqa.document_processing import execute_document_processing\n",
    "from convfinqa.query_processing import execute_query_processing\n",
    "from convfinqa.calculate import execute_calculation"
   ]
  },
  {
   "cell_type": "markdown",
   "metadata": {},
   "source": [
    "### Load Data"
   ]
  },
  {
   "cell_type": "code",
   "execution_count": 32,
   "metadata": {},
   "outputs": [],
   "source": [
    "# Load data\n",
    "train_js = json.load(open(\"data/train.json\", \"r\"))"
   ]
  },
  {
   "cell_type": "code",
   "execution_count": 33,
   "metadata": {},
   "outputs": [],
   "source": [
    "# Get 4 examples of question / steps pairs\n",
    "random.seed(10)\n",
    "\n",
    "random_sample = random.sample(train_js, 4)\n",
    "\n",
    "test_js = [i for i in train_js if i not in random_sample]"
   ]
  },
  {
   "cell_type": "markdown",
   "metadata": {},
   "source": [
    "# Small sample to test MVP"
   ]
  },
  {
   "cell_type": "code",
   "execution_count": 34,
   "metadata": {},
   "outputs": [],
   "source": [
    "# Get type 1 documents\n",
    "random.seed(3)\n",
    "\n",
    "type_1s = [t for t in test_js if t.get(\"qa\", None) is not None]\n",
    "sub_sample = random.sample(type_1s, 50)"
   ]
  },
  {
   "cell_type": "markdown",
   "metadata": {},
   "source": [
    "# Preprocess document"
   ]
  },
  {
   "cell_type": "code",
   "execution_count": 69,
   "metadata": {},
   "outputs": [],
   "source": [
    "# Process documents\n",
    "processed_documents = [execute_document_processing(sample) for sample in sub_sample]"
   ]
  },
  {
   "cell_type": "markdown",
   "metadata": {},
   "source": [
    "# Generate calculation steps"
   ]
  },
  {
   "cell_type": "code",
   "execution_count": 36,
   "metadata": {},
   "outputs": [],
   "source": [
    "# Questions\n",
    "questions = [q[\"qa\"][\"question\"] for q in sub_sample] "
   ]
  },
  {
   "cell_type": "code",
   "execution_count": 68,
   "metadata": {},
   "outputs": [],
   "source": [
    "# Fetch calculations\n",
    "calculations = [execute_query_processing(question=questions[idx], data=processed_document) for idx, processed_document in enumerate(processed_documents)]"
   ]
  },
  {
   "cell_type": "markdown",
   "metadata": {},
   "source": [
    "# Calculate & Compare"
   ]
  },
  {
   "cell_type": "code",
   "execution_count": 61,
   "metadata": {},
   "outputs": [
    {
     "name": "stdout",
     "output_type": "stream",
     "text": [
      "Answer: 54.0, Calculated: 0.521487204249155\n",
      "Answer: 36.7, Calculated: 36.666666666666664\n",
      "Answer: 733.35, Calculated: 866250000.0\n",
      "Answer: 15.1, Calculated: 15.11627906976744\n",
      "Answer: 11.5, Calculated: -0.11349437734277384\n",
      "Answer: 11.3, Calculated: -11.349437734277384\n",
      "Answer: 26.0, Calculated: 25.98670825986708\n",
      "Answer: 21.5, Calculated: 0.21480000000000005\n",
      "Answer: 881.7, Calculated: 881.7443999999999\n",
      "Answer: 20.2, Calculated: 20202.0\n",
      "Answer: 13.2, Calculated: 0.13183385322607125\n",
      "Answer: 52.2, Calculated: 0.5224930277676731\n",
      "Answer: 83.6, Calculated: 1631.0\n",
      "Answer: 154.0, Calculated: 154.0\n",
      "Answer: 3.4, Calculated: 33720.0\n",
      "Answer: 22.9, Calculated: 22.9\n",
      "Answer: 4.75, Calculated: 0.00475\n",
      "Answer: 0.6, Calculated: -0.5611035286309944\n",
      "Answer: 28125000.0, Calculated: 29812500.0\n",
      "Answer: 5.5, Calculated: 5.501618122977356\n",
      "Answer: 27000000.0, Calculated: -27.0\n",
      "Answer: 20.5, Calculated: 20.6\n",
      "Answer: 6.1, Calculated: 6.134205200062276\n",
      "Answer: 10.41, Calculated: 109608.0\n",
      "Answer: 137.8, Calculated: 137.76666666666665\n",
      "Answer: 313.0, Calculated: 1261.0\n",
      "Answer: 6535.0, Calculated: 25370.0\n",
      "Answer: 15.5, Calculated: 0.1545718432510886\n",
      "Answer: 62.0, Calculated: 58.10168882231792\n",
      "Answer: 54.0, Calculated: -0.5392874572962421\n",
      "Answer: 48.5, Calculated: 2786760.0\n",
      "Answer: 434300000.0, Calculated: 434.3\n",
      "Answer: 3.5, Calculated: 0.03457718958006452\n",
      "Answer: 66.0, Calculated: 0.6596243771559984\n",
      "Answer: 0, Calculated: -0.013237063778580024\n",
      "Answer: 1.3, Calculated: 0.013069079419790354\n",
      "Answer: 181.1, Calculated: 181.08108108108107\n",
      "Answer: 7.0, Calculated: 152.0\n",
      "Answer: 1414.4, Calculated: 54.4\n",
      "Answer: 609.0, Calculated: 609.0\n",
      "Answer: 11.8, Calculated: 0.11819742790062031\n",
      "Answer: 14.3, Calculated: 14269059.0\n",
      "Answer: 84.0, Calculated: 84.0\n",
      "Answer: 54.24, Calculated: 54.23640167364017\n",
      "Answer: 58227848.0, Calculated: 58227848.10126582\n",
      "Answer: 2.25, Calculated: 0.022495549441657225\n",
      "Answer: 40.5, Calculated: 0.4048606994665087\n",
      "Answer: 37.79, Calculated: 28.799999999999997\n",
      "Answer: 7.7, Calculated: -0.07692307692307698\n",
      "Answer: 39.3, Calculated: 0.3931398416886544\n"
     ]
    }
   ],
   "source": [
    "def compare_numbers_with_factors(answer, calculation):\n",
    "    # Check if they are equal after rounding\n",
    "    if round(answer, 2) == round(calculation, 2):\n",
    "        return True\n",
    "    \n",
    "    # Check if they are off by a factor of 10\n",
    "    factors = [0.1, 0.01, 1, 10, 100, 0.001, 1000]\n",
    "    for factor in factors:\n",
    "        if round(answer, 2) == round(calculation * factor, 2):\n",
    "            return True\n",
    "        if round(answer, 2) == round(calculation / factor, 2):\n",
    "            return True\n",
    "    \n",
    "    # Check if they are negatives of each other\n",
    "    if round(answer, 2) == round(-calculation, 2):\n",
    "        return True\n",
    "    \n",
    "    return False\n",
    "\n",
    "\n",
    "# Compare answers\n",
    "answers = [q[\"qa\"][\"answer\"] for q in sub_sample] \n",
    "\n",
    "counter = 0\n",
    "rough_counter = 0\n",
    "for idx, calculation in enumerate(calculations):\n",
    "    calculation = execute_calculation(calculation)\n",
    "    number = float(re.findall(r'\\d+(?:\\.\\d+)?', answers[idx])[0]) if re.findall(r'\\d+(?:\\.\\d+)?', answers[idx]) else 0\n",
    "\n",
    "    print(f\"Answer: {number}, Calculated: {calculation}\")\n",
    "\n",
    "    number = round(number)\n",
    "    calculation = round(calculation)\n",
    "\n",
    "    if number == calculation:\n",
    "        counter += 1\n",
    "\n",
    "    if compare_numbers_with_factors(number, calculation):\n",
    "        rough_counter += 1\n"
   ]
  },
  {
   "cell_type": "code",
   "execution_count": 65,
   "metadata": {},
   "outputs": [
    {
     "data": {
      "text/plain": [
       "30.0"
      ]
     },
     "execution_count": 65,
     "metadata": {},
     "output_type": "execute_result"
    }
   ],
   "source": [
    "# Percentage of numbers that are exactly equal\n",
    "(counter / 50)*100"
   ]
  },
  {
   "cell_type": "code",
   "execution_count": 66,
   "metadata": {},
   "outputs": [
    {
     "data": {
      "text/plain": [
       "34.0"
      ]
     },
     "execution_count": 66,
     "metadata": {},
     "output_type": "execute_result"
    }
   ],
   "source": [
    "# Where numbers are off by a factor of 10\n",
    "(rough_counter / 50)*100"
   ]
  },
  {
   "cell_type": "code",
   "execution_count": 67,
   "metadata": {},
   "outputs": [
    {
     "data": {
      "text/plain": [
       "64.0"
      ]
     },
     "execution_count": 67,
     "metadata": {},
     "output_type": "execute_result"
    }
   ],
   "source": [
    "# Combined\n",
    "((counter + rough_counter) / 50)*100"
   ]
  }
 ],
 "metadata": {
  "kernelspec": {
   "display_name": "convfinqa-DdDm5N91-py3.12",
   "language": "python",
   "name": "python3"
  },
  "language_info": {
   "codemirror_mode": {
    "name": "ipython",
    "version": 3
   },
   "file_extension": ".py",
   "mimetype": "text/x-python",
   "name": "python",
   "nbconvert_exporter": "python",
   "pygments_lexer": "ipython3",
   "version": "3.12.5"
  }
 },
 "nbformat": 4,
 "nbformat_minor": 2
}
